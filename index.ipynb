{
  "nbformat": 4,
  "nbformat_minor": 0,
  "metadata": {
    "kernelspec": {
      "display_name": "Python 3",
      "language": "python",
      "name": "python3"
    },
    "language_info": {
      "codemirror_mode": {
        "name": "ipython",
        "version": 3
      },
      "file_extension": ".py",
      "mimetype": "text/x-python",
      "name": "python",
      "nbconvert_exporter": "python",
      "pygments_lexer": "ipython3",
      "version": "3.7.3"
    },
    "colab": {
      "name": "index.ipynb",
      "provenance": [],
      "include_colab_link": true
    }
  },
  "cells": [
    {
      "cell_type": "markdown",
      "metadata": {
        "id": "view-in-github",
        "colab_type": "text"
      },
      "source": [
        "<a href=\"https://colab.research.google.com/github/GeorgeFerre/als-recommender-system-pyspark-lab/blob/master/index.ipynb\" target=\"_parent\"><img src=\"https://colab.research.google.com/assets/colab-badge.svg\" alt=\"Open In Colab\"/></a>"
      ]
    },
    {
      "cell_type": "markdown",
      "metadata": {
        "id": "OI8lQ9w87eXL"
      },
      "source": [
        "# Building a Recommendation System in PySpark - Lab\n",
        "\n",
        "## Introduction\n",
        "\n",
        "In this lab, we will implement a movie recommendation system using ALS in Spark programming environment. Spark's machine learning library `ml` comes packaged with a very efficient implementation of the ALS algorithm that we looked at in the previous lesson. The lab will require you to put into practice your Spark programming skills for creating and manipulating PySpark DataFrames. We will go through a step-by-step process into developing a movie recommendation system using ALS and PySpark using the `MovieLens` dataset that we used in a previous lab.\n",
        "\n",
        "Note: You are advised to refer to [PySpark documentation](http://spark.apache.org/docs/2.2.0/api/python/index.html) heavily for completing this lab as it will introduce a few new methods. \n",
        "\n",
        "\n",
        "## Objectives\n",
        "\n",
        "In this lab you will: \n",
        "\n",
        "- Use Spark to train and cross-validate an ALS model \n",
        "- Introduce a new user with rating to a rating matrix and make recommendations for them \n",
        "- Create a function that will return the top n recommendations for a user "
      ]
    },
    {
      "cell_type": "markdown",
      "metadata": {
        "id": "K-TfE6CK7eXM"
      },
      "source": [
        "## Building a Recommendation System\n",
        "\n",
        "We have seen how recommendation systems have played an integral part in the success of Amazon (books, items), Pandora/Spotify (music), Google (news, search), YouTube (videos) etc.  For Amazon, these systems bring more than 30% of their total revenue. For Netflix, 75% of movies that people watch are based on some sort of recommendation.\n",
        "\n",
        "> The goal of recommendation systems is to find what is likely to be of interest to the user. This enables organizations to offer a high level of personalization and customer tailored services.\n",
        "\n",
        "\n",
        "For online video content services like Netflix and Hulu, the need to build robust movie recommendation systems is extremely important. An example of a recommendation system is such as this:\n",
        "\n",
        "1.    User A watches Game of Thrones and Breaking Bad \n",
        "2.    User B performs a search query for Game of Thrones \n",
        "3.    The system suggests Breaking Bad to user B from data collected about user A \n",
        "\n",
        "\n",
        "This lab will guide you through a step-by-step process into developing such a movie recommendation system. We will use the `MovieLens` dataset to build a movie recommendation system using the collaborative filtering technique with Spark's Alternating Least Squares implementation. After building that recommendation system, we will go through the process of adding a new user to the dataset with some new ratings and obtaining new recommendations for that user.\n",
        "\n",
        "### Importing the Data\n",
        "\n",
        "* Initialize a `SparkSession` object\n",
        "* Import the dataset found at `'./data/ratings.csv'` into a PySpark DataFrame"
      ]
    },
    {
      "cell_type": "code",
      "metadata": {
        "id": "u1Skl1cG_YZn",
        "colab": {
          "base_uri": "https://localhost:8080/"
        },
        "outputId": "226fe874-cb25-43ae-ccef-67b7e033d966"
      },
      "source": [
        "# Run for Google Colab environment\n",
        "!pip install pyspark\n",
        "!apt install openjdk-8-jdk-headless -qq\n",
        "!pip install mlflow"
      ],
      "execution_count": 2,
      "outputs": [
        {
          "output_type": "stream",
          "text": [
            "Collecting pyspark\n",
            "\u001b[?25l  Downloading https://files.pythonhosted.org/packages/89/db/e18cfd78e408de957821ec5ca56de1250645b05f8523d169803d8df35a64/pyspark-3.1.2.tar.gz (212.4MB)\n",
            "\u001b[K     |████████████████████████████████| 212.4MB 55kB/s \n",
            "\u001b[?25hCollecting py4j==0.10.9\n",
            "\u001b[?25l  Downloading https://files.pythonhosted.org/packages/9e/b6/6a4fb90cd235dc8e265a6a2067f2a2c99f0d91787f06aca4bcf7c23f3f80/py4j-0.10.9-py2.py3-none-any.whl (198kB)\n",
            "\u001b[K     |████████████████████████████████| 204kB 10.0MB/s \n",
            "\u001b[?25hBuilding wheels for collected packages: pyspark\n",
            "  Building wheel for pyspark (setup.py) ... \u001b[?25l\u001b[?25hdone\n",
            "  Created wheel for pyspark: filename=pyspark-3.1.2-py2.py3-none-any.whl size=212880768 sha256=52c69508e44fb626f9560399c98851954788313edbd56914973532055fbd9f99\n",
            "  Stored in directory: /root/.cache/pip/wheels/40/1b/2c/30f43be2627857ab80062bef1527c0128f7b4070b6b2d02139\n",
            "Successfully built pyspark\n",
            "Installing collected packages: py4j, pyspark\n",
            "Successfully installed py4j-0.10.9 pyspark-3.1.2\n",
            "The following additional packages will be installed:\n",
            "  openjdk-8-jre-headless\n",
            "Suggested packages:\n",
            "  openjdk-8-demo openjdk-8-source libnss-mdns fonts-dejavu-extra\n",
            "  fonts-ipafont-gothic fonts-ipafont-mincho fonts-wqy-microhei\n",
            "  fonts-wqy-zenhei fonts-indic\n",
            "The following NEW packages will be installed:\n",
            "  openjdk-8-jdk-headless openjdk-8-jre-headless\n",
            "0 upgraded, 2 newly installed, 0 to remove and 39 not upgraded.\n",
            "Need to get 36.5 MB of archives.\n",
            "After this operation, 143 MB of additional disk space will be used.\n",
            "Selecting previously unselected package openjdk-8-jre-headless:amd64.\n",
            "(Reading database ... 160815 files and directories currently installed.)\n",
            "Preparing to unpack .../openjdk-8-jre-headless_8u292-b10-0ubuntu1~18.04_amd64.deb ...\n",
            "Unpacking openjdk-8-jre-headless:amd64 (8u292-b10-0ubuntu1~18.04) ...\n",
            "Selecting previously unselected package openjdk-8-jdk-headless:amd64.\n",
            "Preparing to unpack .../openjdk-8-jdk-headless_8u292-b10-0ubuntu1~18.04_amd64.deb ...\n",
            "Unpacking openjdk-8-jdk-headless:amd64 (8u292-b10-0ubuntu1~18.04) ...\n",
            "Setting up openjdk-8-jre-headless:amd64 (8u292-b10-0ubuntu1~18.04) ...\n",
            "update-alternatives: using /usr/lib/jvm/java-8-openjdk-amd64/jre/bin/orbd to provide /usr/bin/orbd (orbd) in auto mode\n",
            "update-alternatives: using /usr/lib/jvm/java-8-openjdk-amd64/jre/bin/servertool to provide /usr/bin/servertool (servertool) in auto mode\n",
            "update-alternatives: using /usr/lib/jvm/java-8-openjdk-amd64/jre/bin/tnameserv to provide /usr/bin/tnameserv (tnameserv) in auto mode\n",
            "Setting up openjdk-8-jdk-headless:amd64 (8u292-b10-0ubuntu1~18.04) ...\n",
            "update-alternatives: using /usr/lib/jvm/java-8-openjdk-amd64/bin/idlj to provide /usr/bin/idlj (idlj) in auto mode\n",
            "update-alternatives: using /usr/lib/jvm/java-8-openjdk-amd64/bin/wsimport to provide /usr/bin/wsimport (wsimport) in auto mode\n",
            "update-alternatives: using /usr/lib/jvm/java-8-openjdk-amd64/bin/jsadebugd to provide /usr/bin/jsadebugd (jsadebugd) in auto mode\n",
            "update-alternatives: using /usr/lib/jvm/java-8-openjdk-amd64/bin/native2ascii to provide /usr/bin/native2ascii (native2ascii) in auto mode\n",
            "update-alternatives: using /usr/lib/jvm/java-8-openjdk-amd64/bin/javah to provide /usr/bin/javah (javah) in auto mode\n",
            "update-alternatives: using /usr/lib/jvm/java-8-openjdk-amd64/bin/hsdb to provide /usr/bin/hsdb (hsdb) in auto mode\n",
            "update-alternatives: using /usr/lib/jvm/java-8-openjdk-amd64/bin/clhsdb to provide /usr/bin/clhsdb (clhsdb) in auto mode\n",
            "update-alternatives: using /usr/lib/jvm/java-8-openjdk-amd64/bin/extcheck to provide /usr/bin/extcheck (extcheck) in auto mode\n",
            "update-alternatives: using /usr/lib/jvm/java-8-openjdk-amd64/bin/schemagen to provide /usr/bin/schemagen (schemagen) in auto mode\n",
            "update-alternatives: using /usr/lib/jvm/java-8-openjdk-amd64/bin/xjc to provide /usr/bin/xjc (xjc) in auto mode\n",
            "update-alternatives: using /usr/lib/jvm/java-8-openjdk-amd64/bin/jhat to provide /usr/bin/jhat (jhat) in auto mode\n",
            "update-alternatives: using /usr/lib/jvm/java-8-openjdk-amd64/bin/wsgen to provide /usr/bin/wsgen (wsgen) in auto mode\n",
            "Collecting mlflow\n",
            "\u001b[?25l  Downloading https://files.pythonhosted.org/packages/f3/c9/190a45e667b63edb76112deefa70629c2d9985603a85cb1968015fe0f327/mlflow-1.18.0-py3-none-any.whl (14.2MB)\n",
            "\u001b[K     |████████████████████████████████| 14.2MB 1.8MB/s \n",
            "\u001b[?25hRequirement already satisfied: cloudpickle in /usr/local/lib/python3.7/dist-packages (from mlflow) (1.3.0)\n",
            "Collecting prometheus-flask-exporter\n",
            "  Downloading https://files.pythonhosted.org/packages/f3/c1/2cc385fadf18dc75fe24c18899269eda4dcc60221d61eff7da4a6cc5c01d/prometheus_flask_exporter-0.18.2.tar.gz\n",
            "Requirement already satisfied: pandas in /usr/local/lib/python3.7/dist-packages (from mlflow) (1.1.5)\n",
            "Requirement already satisfied: entrypoints in /usr/local/lib/python3.7/dist-packages (from mlflow) (0.3)\n",
            "Requirement already satisfied: pytz in /usr/local/lib/python3.7/dist-packages (from mlflow) (2018.9)\n",
            "Collecting pyyaml>=5.1\n",
            "\u001b[?25l  Downloading https://files.pythonhosted.org/packages/7a/a5/393c087efdc78091afa2af9f1378762f9821c9c1d7a22c5753fb5ac5f97a/PyYAML-5.4.1-cp37-cp37m-manylinux1_x86_64.whl (636kB)\n",
            "\u001b[K     |████████████████████████████████| 645kB 27.1MB/s \n",
            "\u001b[?25hRequirement already satisfied: Flask in /usr/local/lib/python3.7/dist-packages (from mlflow) (1.1.4)\n",
            "Requirement already satisfied: sqlparse>=0.3.1 in /usr/local/lib/python3.7/dist-packages (from mlflow) (0.4.1)\n",
            "Requirement already satisfied: click>=7.0 in /usr/local/lib/python3.7/dist-packages (from mlflow) (7.1.2)\n",
            "Collecting gunicorn; platform_system != \"Windows\"\n",
            "\u001b[?25l  Downloading https://files.pythonhosted.org/packages/e4/dd/5b190393e6066286773a67dfcc2f9492058e9b57c4867a95f1ba5caf0a83/gunicorn-20.1.0-py3-none-any.whl (79kB)\n",
            "\u001b[K     |████████████████████████████████| 81kB 9.2MB/s \n",
            "\u001b[?25hCollecting docker>=4.0.0\n",
            "\u001b[?25l  Downloading https://files.pythonhosted.org/packages/b2/5a/f988909dfed18c1ac42ad8d9e611e6c5657e270aa6eb68559985dbb69c13/docker-5.0.0-py2.py3-none-any.whl (146kB)\n",
            "\u001b[K     |████████████████████████████████| 153kB 40.7MB/s \n",
            "\u001b[?25hRequirement already satisfied: numpy in /usr/local/lib/python3.7/dist-packages (from mlflow) (1.19.5)\n",
            "Collecting databricks-cli>=0.8.7\n",
            "\u001b[?25l  Downloading https://files.pythonhosted.org/packages/bc/af/631375abc29e59cedfa4467a5f7755503ba19898890751e1f2636ef02f92/databricks-cli-0.14.3.tar.gz (54kB)\n",
            "\u001b[K     |████████████████████████████████| 61kB 6.8MB/s \n",
            "\u001b[?25hCollecting querystring-parser\n",
            "  Downloading https://files.pythonhosted.org/packages/88/6b/572b2590fd55114118bf08bde63c0a421dcc82d593700f3e2ad89908a8a9/querystring_parser-1.2.4-py2.py3-none-any.whl\n",
            "Collecting gitpython>=2.1.0\n",
            "\u001b[?25l  Downloading https://files.pythonhosted.org/packages/bc/91/b38c4fabb6e5092ab23492ded4f318ab7299b19263272b703478038c0fbc/GitPython-3.1.18-py3-none-any.whl (170kB)\n",
            "\u001b[K     |████████████████████████████████| 174kB 35.3MB/s \n",
            "\u001b[?25hRequirement already satisfied: sqlalchemy in /usr/local/lib/python3.7/dist-packages (from mlflow) (1.4.20)\n",
            "Requirement already satisfied: requests>=2.17.3 in /usr/local/lib/python3.7/dist-packages (from mlflow) (2.23.0)\n",
            "Requirement already satisfied: protobuf>=3.7.0 in /usr/local/lib/python3.7/dist-packages (from mlflow) (3.17.3)\n",
            "Requirement already satisfied: packaging in /usr/local/lib/python3.7/dist-packages (from mlflow) (20.9)\n",
            "Collecting alembic<=1.4.1\n",
            "\u001b[?25l  Downloading https://files.pythonhosted.org/packages/e0/e9/359dbb77c35c419df0aedeb1d53e71e7e3f438ff64a8fdb048c907404de3/alembic-1.4.1.tar.gz (1.1MB)\n",
            "\u001b[K     |████████████████████████████████| 1.1MB 35.1MB/s \n",
            "\u001b[?25hRequirement already satisfied: prometheus_client in /usr/local/lib/python3.7/dist-packages (from prometheus-flask-exporter->mlflow) (0.11.0)\n",
            "Requirement already satisfied: python-dateutil>=2.7.3 in /usr/local/lib/python3.7/dist-packages (from pandas->mlflow) (2.8.1)\n",
            "Requirement already satisfied: itsdangerous<2.0,>=0.24 in /usr/local/lib/python3.7/dist-packages (from Flask->mlflow) (1.1.0)\n",
            "Requirement already satisfied: Werkzeug<2.0,>=0.15 in /usr/local/lib/python3.7/dist-packages (from Flask->mlflow) (1.0.1)\n",
            "Requirement already satisfied: Jinja2<3.0,>=2.10.1 in /usr/local/lib/python3.7/dist-packages (from Flask->mlflow) (2.11.3)\n",
            "Requirement already satisfied: setuptools>=3.0 in /usr/local/lib/python3.7/dist-packages (from gunicorn; platform_system != \"Windows\"->mlflow) (57.0.0)\n",
            "Collecting websocket-client>=0.32.0\n",
            "\u001b[?25l  Downloading https://files.pythonhosted.org/packages/ca/5f/3c211d168b2e9f9342cfb53bcfc26aab0eac63b998015e7af7bcae66119d/websocket_client-1.1.0-py2.py3-none-any.whl (68kB)\n",
            "\u001b[K     |████████████████████████████████| 71kB 8.2MB/s \n",
            "\u001b[?25hRequirement already satisfied: tabulate>=0.7.7 in /usr/local/lib/python3.7/dist-packages (from databricks-cli>=0.8.7->mlflow) (0.8.9)\n",
            "Requirement already satisfied: six>=1.10.0 in /usr/local/lib/python3.7/dist-packages (from databricks-cli>=0.8.7->mlflow) (1.15.0)\n",
            "Collecting gitdb<5,>=4.0.1\n",
            "\u001b[?25l  Downloading https://files.pythonhosted.org/packages/ea/e8/f414d1a4f0bbc668ed441f74f44c116d9816833a48bf81d22b697090dba8/gitdb-4.0.7-py3-none-any.whl (63kB)\n",
            "\u001b[K     |████████████████████████████████| 71kB 8.0MB/s \n",
            "\u001b[?25hRequirement already satisfied: typing-extensions>=3.7.4.0; python_version < \"3.8\" in /usr/local/lib/python3.7/dist-packages (from gitpython>=2.1.0->mlflow) (3.7.4.3)\n",
            "Requirement already satisfied: greenlet!=0.4.17; python_version >= \"3\" in /usr/local/lib/python3.7/dist-packages (from sqlalchemy->mlflow) (1.1.0)\n",
            "Requirement already satisfied: importlib-metadata; python_version < \"3.8\" in /usr/local/lib/python3.7/dist-packages (from sqlalchemy->mlflow) (4.6.0)\n",
            "Requirement already satisfied: idna<3,>=2.5 in /usr/local/lib/python3.7/dist-packages (from requests>=2.17.3->mlflow) (2.10)\n",
            "Requirement already satisfied: certifi>=2017.4.17 in /usr/local/lib/python3.7/dist-packages (from requests>=2.17.3->mlflow) (2021.5.30)\n",
            "Requirement already satisfied: urllib3!=1.25.0,!=1.25.1,<1.26,>=1.21.1 in /usr/local/lib/python3.7/dist-packages (from requests>=2.17.3->mlflow) (1.24.3)\n",
            "Requirement already satisfied: chardet<4,>=3.0.2 in /usr/local/lib/python3.7/dist-packages (from requests>=2.17.3->mlflow) (3.0.4)\n",
            "Requirement already satisfied: pyparsing>=2.0.2 in /usr/local/lib/python3.7/dist-packages (from packaging->mlflow) (2.4.7)\n",
            "Collecting Mako\n",
            "\u001b[?25l  Downloading https://files.pythonhosted.org/packages/f3/54/dbc07fbb20865d3b78fdb7cf7fa713e2cba4f87f71100074ef2dc9f9d1f7/Mako-1.1.4-py2.py3-none-any.whl (75kB)\n",
            "\u001b[K     |████████████████████████████████| 81kB 9.4MB/s \n",
            "\u001b[?25hCollecting python-editor>=0.3\n",
            "  Downloading https://files.pythonhosted.org/packages/c6/d3/201fc3abe391bbae6606e6f1d598c15d367033332bd54352b12f35513717/python_editor-1.0.4-py3-none-any.whl\n",
            "Requirement already satisfied: MarkupSafe>=0.23 in /usr/local/lib/python3.7/dist-packages (from Jinja2<3.0,>=2.10.1->Flask->mlflow) (2.0.1)\n",
            "Collecting smmap<5,>=3.0.1\n",
            "  Downloading https://files.pythonhosted.org/packages/68/ee/d540eb5e5996eb81c26ceffac6ee49041d473bc5125f2aa995cf51ec1cf1/smmap-4.0.0-py2.py3-none-any.whl\n",
            "Requirement already satisfied: zipp>=0.5 in /usr/local/lib/python3.7/dist-packages (from importlib-metadata; python_version < \"3.8\"->sqlalchemy->mlflow) (3.4.1)\n",
            "Building wheels for collected packages: prometheus-flask-exporter, databricks-cli, alembic\n",
            "  Building wheel for prometheus-flask-exporter (setup.py) ... \u001b[?25l\u001b[?25hdone\n",
            "  Created wheel for prometheus-flask-exporter: filename=prometheus_flask_exporter-0.18.2-cp37-none-any.whl size=17415 sha256=606587046e4714d7e13ce6d93bab8dfae6c4e93a0acf03c6ce7a3df33d84a970\n",
            "  Stored in directory: /root/.cache/pip/wheels/c0/e2/9c/4f3ee23964802940f81a8b476d0b9be6fb6348cb12df2e2226\n",
            "  Building wheel for databricks-cli (setup.py) ... \u001b[?25l\u001b[?25hdone\n",
            "  Created wheel for databricks-cli: filename=databricks_cli-0.14.3-cp37-none-any.whl size=100560 sha256=48cf5b34266abe2cb10f23017c6c699000efc5472941e35cc612873ce54c07bc\n",
            "  Stored in directory: /root/.cache/pip/wheels/5b/24/f3/34d8e3964dac4ba849d844273c49a679111b00d5799ebb934a\n",
            "  Building wheel for alembic (setup.py) ... \u001b[?25l\u001b[?25hdone\n",
            "  Created wheel for alembic: filename=alembic-1.4.1-py2.py3-none-any.whl size=158170 sha256=6220e92ee2f12d46f3eacce41f1992a0472730cdbd2ebeffb50a3e227b844ec6\n",
            "  Stored in directory: /root/.cache/pip/wheels/84/07/f7/12f7370ca47a66030c2edeedcc23dec26ea0ac22dcb4c4a0f3\n",
            "Successfully built prometheus-flask-exporter databricks-cli alembic\n",
            "Installing collected packages: prometheus-flask-exporter, pyyaml, gunicorn, websocket-client, docker, databricks-cli, querystring-parser, smmap, gitdb, gitpython, Mako, python-editor, alembic, mlflow\n",
            "  Found existing installation: PyYAML 3.13\n",
            "    Uninstalling PyYAML-3.13:\n",
            "      Successfully uninstalled PyYAML-3.13\n",
            "Successfully installed Mako-1.1.4 alembic-1.4.1 databricks-cli-0.14.3 docker-5.0.0 gitdb-4.0.7 gitpython-3.1.18 gunicorn-20.1.0 mlflow-1.18.0 prometheus-flask-exporter-0.18.2 python-editor-1.0.4 pyyaml-5.4.1 querystring-parser-1.2.4 smmap-4.0.0 websocket-client-1.1.0\n"
          ],
          "name": "stdout"
        }
      ]
    },
    {
      "cell_type": "code",
      "metadata": {
        "id": "TBArKazM7eXM"
      },
      "source": [
        "# import necessary libraries\n",
        "import pyspark\n",
        "from pyspark.ml.regression import RandomForestRegressor\n",
        "from pyspark.ml import feature\n",
        "from pyspark.ml.feature import StringIndexer, VectorAssembler, OneHotEncoder\n",
        "from pyspark.ml.tuning import ParamGridBuilder, TrainValidationSplit, CrossValidator\n",
        "from pyspark.ml.evaluation import RegressionEvaluator\n",
        "from pyspark.ml import Pipeline\n",
        "from pyspark.sql import SparkSession\n",
        "\n",
        "# instantiate SparkSession object\n",
        "# spark = SparkSession.builder.master(\"local\").getOrCreate()\n",
        "spark = SparkSession\\\n",
        "        .builder\\\n",
        "        .appName('ALSExample').config('spark.driver.host', 'localhost')\\\n",
        "        .getOrCreate()"
      ],
      "execution_count": 3,
      "outputs": []
    },
    {
      "cell_type": "code",
      "metadata": {
        "id": "JePcvf6t7eXM"
      },
      "source": [
        "# read in the dataset into pyspark DataFrame\n",
        "url = 'https://raw.githubusercontent.com/GeorgeFerre/als-recommender-system-pyspark-lab/master/data/ratings.csv'\n",
        "\n",
        "from pyspark import SparkFiles\n",
        "spark.sparkContext.addFile(url)\n",
        "\n",
        "movie_ratings = spark.read.csv(SparkFiles.get('ratings.csv'), header='true', inferSchema='true')"
      ],
      "execution_count": 4,
      "outputs": []
    },
    {
      "cell_type": "markdown",
      "metadata": {
        "id": "qxV2iiuU7eXN"
      },
      "source": [
        "Check the data types of each of the columns to ensure that they are a type that makes sense given the column."
      ]
    },
    {
      "cell_type": "code",
      "metadata": {
        "id": "RMX2_hbi7eXN",
        "colab": {
          "base_uri": "https://localhost:8080/"
        },
        "outputId": "68199de5-c741-4706-cd56-1d4555d12afa"
      },
      "source": [
        "movie_ratings.dtypes"
      ],
      "execution_count": 5,
      "outputs": [
        {
          "output_type": "execute_result",
          "data": {
            "text/plain": [
              "[('userId', 'int'),\n",
              " ('movieId', 'int'),\n",
              " ('rating', 'double'),\n",
              " ('timestamp', 'int')]"
            ]
          },
          "metadata": {
            "tags": []
          },
          "execution_count": 5
        }
      ]
    },
    {
      "cell_type": "markdown",
      "metadata": {
        "id": "fEfENh357eXN"
      },
      "source": [
        "We aren't going to need the timestamp, so we can go ahead and remove that column."
      ]
    },
    {
      "cell_type": "code",
      "metadata": {
        "id": "PgmkeVEE7eXN",
        "outputId": "59cfe1cf-0493-45f0-d582-425ec94ed3a5",
        "colab": {
          "base_uri": "https://localhost:8080/"
        }
      },
      "source": [
        "movie_ratings = movie_ratings.drop('timestamp')\n",
        "movie_ratings"
      ],
      "execution_count": 7,
      "outputs": [
        {
          "output_type": "execute_result",
          "data": {
            "text/plain": [
              "DataFrame[userId: int, movieId: int, rating: double]"
            ]
          },
          "metadata": {
            "tags": []
          },
          "execution_count": 7
        }
      ]
    },
    {
      "cell_type": "markdown",
      "metadata": {
        "id": "KDhNJaIO7eXN"
      },
      "source": [
        "### Fitting the Alternating Least Squares Model"
      ]
    },
    {
      "cell_type": "markdown",
      "metadata": {
        "id": "8V9_evG57eXN"
      },
      "source": [
        "Because this dataset is already preprocessed for us, we can go ahead and fit the Alternating Least Squares model.\n",
        "\n",
        "* Import `ALS` from `pyspark.ml.recommendation` module \n",
        "* Use the `.randomSplit()` method on the pyspark DataFrame to separate the dataset into training and test sets\n",
        "* Fit the Alternating Least Squares Model to the training dataset. Make sure to set the `userCol`, `itemCol`, and `ratingCol` to the appropriate columns given this dataset. Then fit the data to the training set and assign it to a variable model  "
      ]
    },
    {
      "cell_type": "code",
      "metadata": {
        "id": "Y1zl7cyJ7eXO"
      },
      "source": [
        "from pyspark.ml.evaluation import RegressionEvaluator\n",
        "\n",
        "from pyspark.ml.recommendation import ALS \n",
        "\n",
        "# split into training and testing sets[\n",
        "(training, test) = movie_ratings.randomSplit([0.8, 0.2])\n",
        "\n",
        "# Build the recommendation model using ALS on the training data\n",
        "# Note we set cold start strategy to 'drop' to ensure we don't get NaN evaluation metrics\n",
        "als = ALS(maxIter=5, rank=4, regParam=0.01, userCol='userId', itemCol='movieId', ratingCol='rating', coldStartStrategy ='drop')\n",
        "# fit the ALS model to the training set\n",
        "model = als.fit(training)"
      ],
      "execution_count": 9,
      "outputs": []
    },
    {
      "cell_type": "markdown",
      "metadata": {
        "id": "SYY-ZkbZ7eXO"
      },
      "source": [
        "Now you've fit the model, and it's time to evaluate it to determine just how well it performed.\n",
        "\n",
        "* Import `RegressionEvalutor` from `pyspark.ml.evaluation` \n",
        "* Generate predictions with your model for the test set by using the `.transform()` method on your ALS model \n",
        "* Evaluate your model and print out the RMSE from your test set "
      ]
    },
    {
      "cell_type": "code",
      "metadata": {
        "id": "Z-c9pJP07eXO",
        "outputId": "ecb8adb9-2518-44d2-9c94-9dc2953319f7",
        "colab": {
          "base_uri": "https://localhost:8080/"
        }
      },
      "source": [
        "# importing appropriate library\n",
        "from pyspark.ml.evaluation import RegressionEvaluator\n",
        "\n",
        "# Evaluate the model by computing the RMSE on the test data\n",
        "predictions = model.transform(test)\n",
        "\n",
        "evaluator = RegressionEvaluator(metricName='rmse', labelCol='rating', predictionCol='prediction')\n",
        "rmse = evaluator.evaluate(predictions)\n",
        "print('Root-mean-square error = ' + str(rmse))"
      ],
      "execution_count": 13,
      "outputs": [
        {
          "output_type": "stream",
          "text": [
            "Root-mean-square error = 1.0014124793336394\n"
          ],
          "name": "stdout"
        }
      ]
    },
    {
      "cell_type": "markdown",
      "metadata": {
        "id": "P_7AY-cN7eXO"
      },
      "source": [
        "### Cross-validation to Find the Optimal Model\n",
        "\n",
        "Let's now find the optimal values for the parameters of the ALS model. Use the built-in `CrossValidator` in PySpark with a suitable param grid and determine the optimal model. Try with the parameters:\n",
        "\n",
        "* regularization = [0.01, 0.001, 0.1]\n",
        "* rank = [4, 10, 50]\n"
      ]
    },
    {
      "cell_type": "code",
      "metadata": {
        "id": "hwgrJesv7eXO",
        "outputId": "0745b8c6-5d2f-4196-f9fe-a4aa3bf50775",
        "colab": {
          "base_uri": "https://localhost:8080/"
        }
      },
      "source": [
        "from pyspark.ml.tuning import CrossValidator, ParamGridBuilder\n",
        "\n",
        "# initialize the ALS model\n",
        "als_model = ALS(userCol='userId', itemCol='movieId', ratingCol='rating', coldStartStrategy='drop')\n",
        "\n",
        "# create the parameter grid              \n",
        "params = ParamGridBuilder()\\\n",
        "  .addGrid(als_model.regParam, [0.01, 0.001, 0.1])\\\n",
        "  .addGrid(als_model.rank, [4, 10, 50]).build()\n",
        "\n",
        "# instantiating crossvalidator estimator\n",
        "cv = CrossValidator(estimator=als_model, estimatorParamMaps=params, evaluator=evaluator, parallelism=4)\n",
        "best_model = cv.fit(movie_ratings)\n",
        "\n",
        "# We see the best model has a rank of 50, so we will use that in our future models with this dataset\n",
        "best_model.bestModel.rank"
      ],
      "execution_count": 15,
      "outputs": [
        {
          "output_type": "execute_result",
          "data": {
            "text/plain": [
              "50"
            ]
          },
          "metadata": {
            "tags": []
          },
          "execution_count": 15
        }
      ]
    },
    {
      "cell_type": "markdown",
      "metadata": {
        "id": "OIBO60CN7eXO"
      },
      "source": [
        "### Incorporating the names of the movies\n",
        "\n",
        "When we make recommendations, it would be ideal if we could have the actual name of the movie used rather than just an ID. There is another file called `'./data/movies.csv'` that contains all of the names of the movies matched up to the `movie_id` that we have in the ratings dataset.\n",
        "\n",
        "* Import the data into a Spark DataFrame \n",
        "* Look at the first 5 rows"
      ]
    },
    {
      "cell_type": "code",
      "metadata": {
        "id": "vJnehnOF7eXP",
        "outputId": "687248ed-cf53-41e2-842b-d06925ad17de",
        "colab": {
          "base_uri": "https://localhost:8080/"
        }
      },
      "source": [
        "url2 = 'https://raw.githubusercontent.com/GeorgeFerre/als-recommender-system-pyspark-lab/master/data/movies.csv'\n",
        "spark.sparkContext.addFile(url2)\n",
        "\n",
        "movie_titles = spark.read.csv(SparkFiles.get('movies.csv'), header='true', inferSchema='true')\n",
        "\n",
        "movie_titles.head(5)"
      ],
      "execution_count": 18,
      "outputs": [
        {
          "output_type": "execute_result",
          "data": {
            "text/plain": [
              "[Row(movieId=1, title='Toy Story (1995)', genres='Adventure|Animation|Children|Comedy|Fantasy'),\n",
              " Row(movieId=2, title='Jumanji (1995)', genres='Adventure|Children|Fantasy'),\n",
              " Row(movieId=3, title='Grumpier Old Men (1995)', genres='Comedy|Romance'),\n",
              " Row(movieId=4, title='Waiting to Exhale (1995)', genres='Comedy|Drama|Romance'),\n",
              " Row(movieId=5, title='Father of the Bride Part II (1995)', genres='Comedy')]"
            ]
          },
          "metadata": {
            "tags": []
          },
          "execution_count": 18
        }
      ]
    },
    {
      "cell_type": "markdown",
      "metadata": {
        "id": "2nGJrSss7eXP"
      },
      "source": [
        "We will eventually be matching up the movie ids with the movie titles. In the cell below, create a function `name_retriever()` that takes in a `movie_id` and returns a string that represents the movie title. \n",
        "\n",
        "> Hint: It's possible to do this operation in one line with the `df.where()` or the `df.filter()` methods "
      ]
    },
    {
      "cell_type": "code",
      "metadata": {
        "id": "7Tbb7zne7eXP"
      },
      "source": [
        "def name_retriever(movie_id, movie_title_df):\n",
        "    return movie_title_df.where(movie_title_df.movieId == movie_id).take(1)[0]['title']"
      ],
      "execution_count": 21,
      "outputs": []
    },
    {
      "cell_type": "code",
      "metadata": {
        "id": "aNhJ3Njo7eXP",
        "outputId": "2ea67e57-84e0-4f60-c168-5a45c7cff27d",
        "colab": {
          "base_uri": "https://localhost:8080/"
        }
      },
      "source": [
        "print(name_retriever(1023, movie_titles))"
      ],
      "execution_count": 22,
      "outputs": [
        {
          "output_type": "stream",
          "text": [
            "Winnie the Pooh and the Blustery Day (1968)\n"
          ],
          "name": "stdout"
        }
      ]
    },
    {
      "cell_type": "markdown",
      "metadata": {
        "id": "PAWBAQL37eXP"
      },
      "source": [
        "## Getting Recommendations\n",
        "\n",
        "Now it's time to actually get some recommendations! The ALS model has built-in methods called `.recommendForUserSubset()` and `.recommendForAllUsers()`. We'll start off with using a subset of users. "
      ]
    },
    {
      "cell_type": "code",
      "metadata": {
        "id": "LTw9RKBL7eXP"
      },
      "source": [
        "users = movie_ratings.select(als.getUserCol()).distinct().limit(1)\n",
        "userSubsetRecs = model.recommendForUserSubset(users, 10)\n",
        "recs = userSubsetRecs.take(1)"
      ],
      "execution_count": 23,
      "outputs": []
    },
    {
      "cell_type": "markdown",
      "metadata": {
        "id": "LUktAlnB7eXP"
      },
      "source": [
        "We can now see we have a list of rows with recommended items. Now try and get the name of the top recommended movie by way of the function you just created, using number one item for this user."
      ]
    },
    {
      "cell_type": "code",
      "metadata": {
        "id": "JqynI3Fw7eXP",
        "outputId": "51a75a89-ed5f-4142-d18f-082700a4d581",
        "colab": {
          "base_uri": "https://localhost:8080/",
          "height": 35
        }
      },
      "source": [
        "# use indexing to obtain the movie id of top predicted rated item\n",
        "first_recommendation = recs[0]['recommendations'][0][0]\n",
        "\n",
        "# use the name retriever function to get the values\n",
        "name_retriever(first_recommendation,movie_titles)"
      ],
      "execution_count": 25,
      "outputs": [
        {
          "output_type": "execute_result",
          "data": {
            "application/vnd.google.colaboratory.intrinsic+json": {
              "type": "string"
            },
            "text/plain": [
              "'Tourist, The (2010)'"
            ]
          },
          "metadata": {
            "tags": []
          },
          "execution_count": 25
        }
      ]
    },
    {
      "cell_type": "markdown",
      "metadata": {
        "id": "mc0STGf27eXP"
      },
      "source": [
        "Of course, you can also make recommendations for everyone, although this will take longer. In the next line, we are creating an RDD with the top 5 recommendations for every user and then selecting one user to find out his predictions:"
      ]
    },
    {
      "cell_type": "code",
      "metadata": {
        "id": "B-Nu8S-H7eXP",
        "outputId": "02853ce9-1d0f-4d4a-9944-54d0117965a7",
        "colab": {
          "base_uri": "https://localhost:8080/"
        }
      },
      "source": [
        "recommendations = model.recommendForAllUsers(5)\n",
        "recommendations.where(recommendations.userId == 3).collect()"
      ],
      "execution_count": 26,
      "outputs": [
        {
          "output_type": "execute_result",
          "data": {
            "text/plain": [
              "[Row(userId=3, recommendations=[Row(movieId=7982, rating=10.030734062194824), Row(movieId=2693, rating=9.811583518981934), Row(movieId=4721, rating=8.50878620147705), Row(movieId=4794, rating=7.9509406089782715), Row(movieId=48322, rating=7.585625648498535)])]"
            ]
          },
          "metadata": {
            "tags": []
          },
          "execution_count": 26
        }
      ]
    },
    {
      "cell_type": "markdown",
      "metadata": {
        "id": "1lhX-j1C7eXQ"
      },
      "source": [
        "### Getting Predictions for a New User\n",
        "\n",
        "Now, it's time to put together all that you've learned in this section to create a function that will take in a new user and some movies they've rated and then return $n$ number of highest recommended movies. This function will have multiple different steps to it:\n",
        "\n",
        "* Adding the new ratings into the DataFrame (hint: look into using the `.union()` method) \n",
        "* Fitting the ALS model  \n",
        "* Make recommendations for the user of choice \n",
        "* Print out the names of the top $n$ recommendations in a reader-friendly manner \n",
        "\n",
        "The function should take in the parameters: \n",
        "\n",
        "* `user_id` : int \n",
        "* `new_ratings` : list of tuples in the format (user_id, item_id, rating)\n",
        "* `rating_df` : spark DF containing ratings\n",
        "* `movie_title_df` : spark DF containing movie titles\n",
        "* `num_recs` : int"
      ]
    },
    {
      "cell_type": "markdown",
      "metadata": {
        "id": "balRH3p97eXQ"
      },
      "source": [
        "Rate new movies\n",
        "\n",
        "```python\n",
        "[Row(movieId=3253, title='Wayne's World (1992)', genres='Comedy'),\n",
        " Row(movieId=2459, title='Texas Chainsaw Massacre, The (1974)', genres='Horror'),\n",
        " Row(movieId=2513, title='Pet Sematary (1989)', genres='Horror'),\n",
        " Row(movieId=6502, title='28 Days Later (2002)', genres='Action|Horror|Sci-Fi'),\n",
        " Row(movieId=1091, title='Weekend at Bernie's (1989)', genres='Comedy'),\n",
        "Row(movieId=441, title='Dazed and Confused (1993)', genres='Comedy'),\n",
        "Row(movieId=370, title='Naked Gun 33 1/3: The Final Insult (1994)', genres='Action|Comedy')]\n",
        "\n",
        "```"
      ]
    },
    {
      "cell_type": "code",
      "metadata": {
        "id": "ZYidvMXE7eXQ"
      },
      "source": [
        "def new_user_recs(user_id, new_ratings, rating_df, movie_title_df, num_recs):\n",
        "    # turn the new_recommendations list into a spark DataFrame\n",
        "    new_user_ratings = spark.createDataFrame(new_ratings, rating_df.columns)\n",
        "    \n",
        "    # combine the new ratings df with the rating_df\n",
        "    movie_ratings_combined = rating_df.union(new_user_ratings)\n",
        "    \n",
        "    # create an ALS model and fit it\n",
        "    als = ALS(maxIter=5, rank=50, regParam=0.01, userCol='userId', itemCol='movieId', ratingCol='rating',\n",
        "              coldStartStrategy='drop')\n",
        "    model = als.fit(movie_ratings_combined)\n",
        "    \n",
        "    # make recommendations for all users using the recommendForAllUsers method\n",
        "    recommendations = model.recommendForAllUsers(num_recs)\n",
        "    \n",
        "    # get recommendations specifically for the new user that has been added to the DataFrame\n",
        "    recs_for_user = recommendations.where(recommendations.userId == user_id).take(1)\n",
        "\n",
        "    for ranking, (movie_id, rating) in enumerate(recs_for_user[0]['recommendations']):\n",
        "      movie_string = name_retriever(movie_id, movie_title_df)\n",
        "      print('Recommendation {}: {}  | predicted score: {}'.format(ranking+1, movie_string, rating))\n",
        "        "
      ],
      "execution_count": 27,
      "outputs": []
    },
    {
      "cell_type": "code",
      "metadata": {
        "scrolled": false,
        "id": "qK_ev8o87eXQ",
        "outputId": "45d73361-b7e5-443e-f09a-e7137ad2801e",
        "colab": {
          "base_uri": "https://localhost:8080/"
        }
      },
      "source": [
        "# try out your function with the movies listed above\n",
        "user_id = 100000\n",
        "user_ratings_1 = [(user_id,3253,5),\n",
        "                  (user_id,2459,5),\n",
        "                  (user_id,2513,4),\n",
        "                  (user_id,6502,5),\n",
        "                  (user_id,1091,5),\n",
        "                  (user_id,441,4)]\n",
        "new_user_recs(user_id,\n",
        "             new_ratings=user_ratings_1,\n",
        "             rating_df=movie_ratings,\n",
        "             movie_title_df=movie_titles,\n",
        "             num_recs = 10)\n",
        "\n",
        "\n"
      ],
      "execution_count": 28,
      "outputs": [
        {
          "output_type": "stream",
          "text": [
            "Recommendation 1: Singin' in the Rain (1952)  | predicted score: 5.8388190269470215\n",
            "Recommendation 2: Grand Day Out with Wallace and Gromit, A (1989)  | predicted score: 5.804414749145508\n",
            "Recommendation 3: Back to the Future (1985)  | predicted score: 5.796850204467773\n",
            "Recommendation 4: Princess Bride, The (1987)  | predicted score: 5.741696834564209\n",
            "Recommendation 5: Terminator 2: Judgment Day (1991)  | predicted score: 5.74150276184082\n",
            "Recommendation 6: When Harry Met Sally... (1989)  | predicted score: 5.730274677276611\n",
            "Recommendation 7: Wallace & Gromit: The Best of Aardman Animation (1996)  | predicted score: 5.7184224128723145\n",
            "Recommendation 8: Harold and Maude (1971)  | predicted score: 5.702658653259277\n",
            "Recommendation 9: Thank You for Smoking (2006)  | predicted score: 5.700323104858398\n",
            "Recommendation 10: Star Wars: Episode V - The Empire Strikes Back (1980)  | predicted score: 5.653987407684326\n"
          ],
          "name": "stdout"
        }
      ]
    },
    {
      "cell_type": "markdown",
      "metadata": {
        "id": "mlFgC4kz7eXQ"
      },
      "source": [
        "So here we have it! Our recommendation system is generating recommendations for the top 10 movies. \n",
        "\n",
        "\n",
        "\n",
        "\n",
        "## Level up (Optional)\n",
        "\n",
        "\n",
        "* Create a user interface to allow users to easily choose items and get recommendations \n",
        "\n",
        "* Use IMDB links to scrape user reviews from IMDB and using basic NLP techniques, create extra embeddings for ALS model  \n",
        "\n",
        "* Create a hybrid recommender system using features like genre \n",
        "\n",
        "## Summary\n",
        "\n",
        "In this lab, you built a model using Spark, performed some parameter selection, and updated the model every time new user preferences came in. You looked at how Spark's ALS implementation can be used to build a scalable and efficient recommendation system. You also saw that such systems can become computationally expensive and using them with an online system could be a problem with traditional computational platforms. Spark's distributed computing architecture provides a great solution to deploy such recommendation systems for real-world applications (think Amazon, Spotify)."
      ]
    }
  ]
}